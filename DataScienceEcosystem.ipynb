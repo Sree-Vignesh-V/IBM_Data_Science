{
 "cells": [
  {
   "cell_type": "markdown",
   "id": "2e300ffc",
   "metadata": {},
   "source": [
    "# Data Science Tools and Ecosystem"
   ]
  },
  {
   "cell_type": "markdown",
   "id": "4ae73345",
   "metadata": {},
   "source": [
    "In this notebook, Data Science Tools and Ecosystem are summarized."
   ]
  },
  {
   "cell_type": "raw",
   "id": "a8eb97e1",
   "metadata": {},
   "source": [
    "Some of the popular languages that Data Scientists use are:\n",
    "1)Python\n",
    "2)R\n",
    "3)Scala\n",
    "4)Julia"
   ]
  },
  {
   "cell_type": "markdown",
   "id": "87fc6ab9",
   "metadata": {},
   "source": [
    "Some of the commonly used libraries used by Data Scientists include:\n",
    "1)Pandas\n",
    "2)scikit-learn\n",
    "3)dplyr\n",
    "4)ggplot2"
   ]
  },
  {
   "cell_type": "markdown",
   "id": "fc0442c4",
   "metadata": {},
   "source": [
    "Data Science Tools\n",
    "JupyterLab\n",
    "MATLAB\n",
    "RStudio"
   ]
  },
  {
   "cell_type": "markdown",
   "id": "45a08065",
   "metadata": {},
   "source": [
    "### Below are a few examples of evaluating arithmetic expressions in Python"
   ]
  },
  {
   "cell_type": "code",
   "execution_count": 1,
   "id": "dc001eff",
   "metadata": {},
   "outputs": [
    {
     "data": {
      "text/plain": [
       "17"
      ]
     },
     "execution_count": 1,
     "metadata": {},
     "output_type": "execute_result"
    }
   ],
   "source": [
    "#This a simple arithmetic expression to mutiply then add integers\n",
    "(3*4)+5"
   ]
  },
  {
   "cell_type": "code",
   "execution_count": 2,
   "id": "54cc8656",
   "metadata": {},
   "outputs": [
    {
     "data": {
      "text/plain": [
       "3.3333333333333335"
      ]
     },
     "execution_count": 2,
     "metadata": {},
     "output_type": "execute_result"
    }
   ],
   "source": [
    "#This will convert 200 minutes to hours by diving by 60\n",
    "200/60"
   ]
  },
  {
   "cell_type": "markdown",
   "id": "3f1cdcf1",
   "metadata": {},
   "source": [
    "Objectives:\n",
    "1)list of popular Data science languages\n",
    "2)list of popular Data science tools\n",
    "3)list of popular Data science libraries"
   ]
  },
  {
   "cell_type": "markdown",
   "id": "fd674b2e",
   "metadata": {},
   "source": [
    "## Author\n",
    "Sree Vignesh V"
   ]
  }
 ],
 "metadata": {
  "kernelspec": {
   "display_name": "Python 3 (ipykernel)",
   "language": "python",
   "name": "python3"
  },
  "language_info": {
   "codemirror_mode": {
    "name": "ipython",
    "version": 3
   },
   "file_extension": ".py",
   "mimetype": "text/x-python",
   "name": "python",
   "nbconvert_exporter": "python",
   "pygments_lexer": "ipython3",
   "version": "3.11.5"
  }
 },
 "nbformat": 4,
 "nbformat_minor": 5
}
